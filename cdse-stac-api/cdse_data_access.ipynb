{
 "cells": [
  {
   "cell_type": "code",
   "execution_count": 1,
   "metadata": {},
   "outputs": [],
   "source": [
    "import os\n",
    "from pprint import pprint as pp  # for pretty printing\n",
    "from pystac_client import Client\n",
    "import requests\n",
    "import xarray\n",
    "import rioxarray\n",
    "import s3fs\n",
    "\n",
    "# S3 keys, see tutorial for more details:\n",
    "# https://documentation.dataspace.copernicus.eu/APIs/S3.html\n",
    "S3_KEY = \"\"\n",
    "S3_SECRET = \"\"\n",
    "\n",
    "# Odata setup\n",
    "# Your regular CDSE login credentials\n",
    "# https://documentation.dataspace.copernicus.eu/APIs/OData.html\n",
    "USER = \"\"\n",
    "PASS = \"\""
   ]
  },
  {
   "cell_type": "markdown",
   "metadata": {},
   "source": [
    "# Section 1: STAC S3 Data Discovery\n",
    "\n",
    "## General notes:\n",
    "\n",
    "- The CDSE documentation is quite rubbish especially the STAC search: https://documentation.dataspace.copernicus.eu/APIs/STAC.html\n",
    "\n",
    "- S3 Links are available in the STAC catalog.\n",
    "\n",
    "- Accessing the S3 requires patience because you will get `forbidden` errors a lot. You need to retry over and over and it works.\n",
    "\n",
    "- Sentinel-2 data appears to be merged in terms of `L1C` `L2A` and the documentation doesnt specify how to query one or the other. The data is in `.SAFE` as far as I can tell."
   ]
  },
  {
   "cell_type": "markdown",
   "metadata": {},
   "source": [
    "## Test 1: SENTINEL-2\n",
    "\n",
    "### Summary\n",
    "\n",
    "It is possible to extract the S3 Link from the STAC metadata as shown below, however:\n",
    "\n",
    "1. Data is `L1C` and not `L2A` the CDSE docs don't make it clear, how to get the `L2A` data. It appears that SENTINEL-2 contains both so there needs to be some other filter option.\n",
    "\n",
    "2. The Data is in `SAFE` format, which is not the most convenient format for processing."
   ]
  },
  {
   "cell_type": "code",
   "execution_count": 2,
   "metadata": {},
   "outputs": [],
   "source": [
    "catalog = Client.open('https://catalogue.dataspace.copernicus.eu/stac/')\n",
    "items = catalog.search(\n",
    "    collections=[\"SENTINEL-2\"],\n",
    "    bbox=[11.02083333, 46.65359938, 11.36666667, 46.95416667],\n",
    "    datetime=['2022-02-01T00:00:00Z', '2022-06-30T00:00:00Z'],\n",
    ").item_collection()"
   ]
  },
  {
   "cell_type": "code",
   "execution_count": 3,
   "metadata": {},
   "outputs": [
    {
     "name": "stdout",
     "output_type": "stream",
     "text": [
      "[<Link rel=root target=<Client id=Catalogue>>,\n",
      " <Link rel=self target=https://catalogue.dataspace.copernicus.eu/stac/collections/SENTINEL-2/items/S2B_MSIL1C_20220205T102119_N0400_R065_T32TPT_20220205T110638.SAFE>,\n",
      " <Link rel=collection target=https://catalogue.dataspace.copernicus.eu/stac/collections/SENTINEL-2>]\n"
     ]
    }
   ],
   "source": [
    "pp(items.items[0].get_links())"
   ]
  },
  {
   "cell_type": "code",
   "execution_count": 4,
   "metadata": {},
   "outputs": [
    {
     "name": "stdout",
     "output_type": "stream",
     "text": [
      "STAC Feature link: https://catalogue.dataspace.copernicus.eu/stac/collections/SENTINEL-2/items/S2B_MSIL1C_20220205T102119_N0400_R065_T32TPT_20220205T110638.SAFE\n"
     ]
    }
   ],
   "source": [
    "item_link = next(link for link in items.items[0].get_links() if link.rel == 'self').target\n",
    "print(f\"STAC Feature link: {item_link}\")"
   ]
  },
  {
   "cell_type": "code",
   "execution_count": 5,
   "metadata": {},
   "outputs": [
    {
     "name": "stdout",
     "output_type": "stream",
     "text": [
      "{'assets': {'PRODUCT': {'alternate': {'s3': {'href': '/eodata/Sentinel-2/MSI/L1C/2022/02/05/S2B_MSIL1C_20220205T102119_N0400_R065_T32TPT_20220205T110638.SAFE',\n",
      "                                             'storage:platform': 'CLOUDFERRO',\n",
      "                                             'storage:region': 'waw',\n",
      "                                             'storage:requester_pays': False,\n",
      "                                             'storage:tier': 'Online'}},\n",
      "                        'href': 'https://catalogue.dataspace.copernicus.eu/odata/v1/Products(0164d3ee-55b6-559a-bdd9-3a80668253b1)/$value',\n",
      "                        'title': 'Product',\n",
      "                        'type': 'application/octet-stream'},\n",
      "            'QUICKLOOK': {'href': 'https://catalogue.dataspace.copernicus.eu/odata/v1/Assets(45d156b7-0109-4766-b467-1a097bb97630)/$value',\n",
      "                          'title': 'QUICKLOOK',\n",
      "                          'type': 'image/jpeg'}},\n",
      " 'bbox': [10.31188678741455,\n",
      "          46.832672119140625,\n",
      "          11.802846908569336,\n",
      "          47.845924377441406],\n",
      " 'collection': 'SENTINEL-2',\n",
      " 'geometry': {'coordinates': [[[11.751472987839, 46.840025405462],\n",
      "                               [11.802846682925, 47.819474402959],\n",
      "                               [10.33660021997, 47.845921052089],\n",
      "                               [10.311886885512, 46.858181972465],\n",
      "                               [11.748461383471, 46.832674902797],\n",
      "                               [11.751472987839, 46.840025405462]]],\n",
      "              'type': 'Polygon'},\n",
      " 'id': 'S2B_MSIL1C_20220205T102119_N0400_R065_T32TPT_20220205T110638.SAFE',\n",
      " 'links': [{'href': 'https://catalogue.dataspace.copernicus.eu/stac',\n",
      "            'rel': 'root',\n",
      "            'type': 'application/json'},\n",
      "           {'href': 'https://catalogue.dataspace.copernicus.eu/stac/collections/SENTINEL-2/items/S2B_MSIL1C_20220205T102119_N0400_R065_T32TPT_20220205T110638.SAFE',\n",
      "            'rel': 'self',\n",
      "            'type': 'application/json'},\n",
      "           {'href': 'https://catalogue.dataspace.copernicus.eu/stac/collections/SENTINEL-2',\n",
      "            'rel': 'collection',\n",
      "            'type': 'application/json'}],\n",
      " 'properties': {'authority': 'ESA',\n",
      "                'cloudCover': 11.2161206594848,\n",
      "                'coordinates': '46.84002540546247,11.751472987839094 '\n",
      "                               '46.83267490279749,11.748461383471396 '\n",
      "                               '46.85818197246455,10.31188688551243 '\n",
      "                               '47.84592105208886,10.33660021997006 '\n",
      "                               '47.81947440295927,11.802846682924509 '\n",
      "                               '46.84002540546247,11.751472987839094',\n",
      "                'datastripidentifier': 'S2B_OPER_MSI_L1C_DS_VGS4_20220205T110638_S20220205T102141_N04.00',\n",
      "                'datetime': '2022-02-05T10:21:19.024000Z',\n",
      "                'end_datetime': '2022-02-05T10:21:19.024000Z',\n",
      "                'granuleidentifier': 'S2B_OPER_MSI_L1C_TL_VGS4_20220205T110638_A025688_T32TPT_N04.00',\n",
      "                'hvOrderTileid': 'TT32P',\n",
      "                'instrumentShortName': 'MSI',\n",
      "                'operationalMode': 'INS-NOBS',\n",
      "                'orbitDirection': 'DESCENDING',\n",
      "                'orbitNumber': 25688,\n",
      "                'origin': 'ESA',\n",
      "                'platformSerialIdentifier': 'B',\n",
      "                'platformShortName': 'SENTINEL-2',\n",
      "                'processingLevel': 'S2MSI1C',\n",
      "                'processorVersion': '4.0',\n",
      "                'productGroupId': 'GS2B_20220205T102119_025688_N04.00',\n",
      "                'productType': 'S2MSI1C',\n",
      "                'relativeOrbitNumber': 65,\n",
      "                'spatialResolution': '60.0',\n",
      "                'start_datetime': '2022-02-05T10:21:19.024000Z',\n",
      "                'tileId': '32TPT'},\n",
      " 'stac_extensions': ['https://stac-extensions.github.io/alternate-assets/v1.1.0/schema.json',\n",
      "                     'https://stac-extensions.github.io/storage/v1.0.0/schema.json'],\n",
      " 'stac_version': '1.0.0',\n",
      " 'type': 'Feature'}\n"
     ]
    }
   ],
   "source": [
    "item_response = requests.get(item_link)\n",
    "item_details = item_response.json()\n",
    "pp(item_details)"
   ]
  },
  {
   "cell_type": "code",
   "execution_count": 6,
   "metadata": {},
   "outputs": [
    {
     "name": "stdout",
     "output_type": "stream",
     "text": [
      "S3 URL: s3://eodata/Sentinel-2/MSI/L1C/2022/02/05/S2B_MSIL1C_20220205T102119_N0400_R065_T32TPT_20220205T110638.SAFE\n"
     ]
    }
   ],
   "source": [
    "s3_path = item_details['assets']['PRODUCT']['alternate']['s3']['href']\n",
    "s3_url = f\"s3://{s3_path.lstrip('/')}\"\n",
    "print(f\"S3 URL: {s3_url}\")"
   ]
  },
  {
   "cell_type": "code",
   "execution_count": 7,
   "metadata": {},
   "outputs": [
    {
     "name": "stdout",
     "output_type": "stream",
     "text": [
      "\n",
      "Listing objects in /eodata/Landsat-8/:\n",
      "eodata/Sentinel-2/MSI/L1C/2022/02/05/S2B_MSIL1C_20220205T102119_N0400_R065_T32TPT_20220205T110638.SAFE/\n",
      "eodata/Sentinel-2/MSI/L1C/2022/02/05/S2B_MSIL1C_20220205T102119_N0400_R065_T32TPT_20220205T110638.SAFE/AUX_DATA\n",
      "eodata/Sentinel-2/MSI/L1C/2022/02/05/S2B_MSIL1C_20220205T102119_N0400_R065_T32TPT_20220205T110638.SAFE/DATASTRIP\n",
      "eodata/Sentinel-2/MSI/L1C/2022/02/05/S2B_MSIL1C_20220205T102119_N0400_R065_T32TPT_20220205T110638.SAFE/GRANULE\n",
      "eodata/Sentinel-2/MSI/L1C/2022/02/05/S2B_MSIL1C_20220205T102119_N0400_R065_T32TPT_20220205T110638.SAFE/HTML\n",
      "eodata/Sentinel-2/MSI/L1C/2022/02/05/S2B_MSIL1C_20220205T102119_N0400_R065_T32TPT_20220205T110638.SAFE/INSPIRE.xml\n",
      "eodata/Sentinel-2/MSI/L1C/2022/02/05/S2B_MSIL1C_20220205T102119_N0400_R065_T32TPT_20220205T110638.SAFE/MTD_MSIL1C.xml\n",
      "eodata/Sentinel-2/MSI/L1C/2022/02/05/S2B_MSIL1C_20220205T102119_N0400_R065_T32TPT_20220205T110638.SAFE/S2B_MSIL1C_20220205T102119_N0400_R065_T32TPT_20220205T110638-ql.jpg\n",
      "eodata/Sentinel-2/MSI/L1C/2022/02/05/S2B_MSIL1C_20220205T102119_N0400_R065_T32TPT_20220205T110638.SAFE/manifest.safe\n",
      "eodata/Sentinel-2/MSI/L1C/2022/02/05/S2B_MSIL1C_20220205T102119_N0400_R065_T32TPT_20220205T110638.SAFE/rep_info\n"
     ]
    }
   ],
   "source": [
    "fs = s3fs.S3FileSystem(anon=False, key=S3_KEY, secret=S3_SECRET, client_kwargs={'endpoint_url': 'https://eodata.dataspace.copernicus.eu'})\n",
    "def list_s3_objects(prefix):\n",
    "    try:\n",
    "        objects = fs.ls(prefix)\n",
    "        for obj in objects:\n",
    "            print(obj)\n",
    "    except Exception as e:\n",
    "        print(f\"Failed to list objects in {prefix}: {e}\")\n",
    "\n",
    "print(\"\\nListing objects in /eodata/Landsat-8/:\")\n",
    "list_s3_objects(s3_url)"
   ]
  },
  {
   "cell_type": "markdown",
   "metadata": {},
   "source": [
    "## Test 2: LANDSAT-8\n",
    "\n",
    "### Summary\n",
    "\n",
    "Since LANDSAT 8 is `tif` we can select a random sample from the S3, load it and calculate NDVI. \n",
    "\n"
   ]
  },
  {
   "cell_type": "code",
   "execution_count": 8,
   "metadata": {},
   "outputs": [],
   "source": [
    "catalog = Client.open('https://catalogue.dataspace.copernicus.eu/stac/')\n",
    "items = catalog.search(\n",
    "    collections=[\"LANDSAT-8\"],\n",
    "    bbox=[11.02083333, 46.65359938, 11.36666667, 46.95416667],\n",
    "    datetime=['2022-02-01T00:00:00Z', '2022-06-30T00:00:00Z'],\n",
    ").item_collection()"
   ]
  },
  {
   "cell_type": "code",
   "execution_count": 9,
   "metadata": {},
   "outputs": [
    {
     "name": "stdout",
     "output_type": "stream",
     "text": [
      "[<Link rel=root target=<Client id=Catalogue>>,\n",
      " <Link rel=self target=https://catalogue.dataspace.copernicus.eu/stac/collections/LANDSAT-8/items/LC08_L2SP_192028_20220201_20220205_02_T1>,\n",
      " <Link rel=collection target=https://catalogue.dataspace.copernicus.eu/stac/collections/LANDSAT-8>]\n",
      "STAC Feature link: https://catalogue.dataspace.copernicus.eu/stac/collections/LANDSAT-8/items/LC08_L2SP_192028_20220201_20220205_02_T1\n",
      "{'assets': {'PRODUCT': {'alternate': {'s3': {'href': '/eodata/Landsat-8/OLI_TIRS/L2SP/2022/02/01/LC08_L2SP_192028_20220201_20220205_02_T1',\n",
      "                                             'storage:platform': 'CLOUDFERRO',\n",
      "                                             'storage:region': 'waw',\n",
      "                                             'storage:requester_pays': False,\n",
      "                                             'storage:tier': 'Online'}},\n",
      "                        'href': 'https://catalogue.dataspace.copernicus.eu/odata/v1/Products(bea5f1fd-ddb1-570b-a812-70b2d7e08973)/$value',\n",
      "                        'title': 'Product',\n",
      "                        'type': 'application/octet-stream'},\n",
      "            'QUICKLOOK': {'href': 'https://catalogue.dataspace.copernicus.eu/odata/v1/Assets(6e41a0de-9261-4332-b5a2-acfd7496161b)/$value',\n",
      "                          'title': 'QUICKLOOK',\n",
      "                          'type': 'image/jpeg'}},\n",
      " 'bbox': [10.550699234008789,\n",
      "          44.932437896728516,\n",
      "          13.624070167541504,\n",
      "          47.100582122802734],\n",
      " 'collection': 'LANDSAT-8',\n",
      " 'geometry': {'coordinates': [[[10.61039, 47.10058],\n",
      "                               [10.5507, 45.00882],\n",
      "                               [13.45328, 44.93244],\n",
      "                               [13.62407, 47.01846],\n",
      "                               [10.61039, 47.10058]]],\n",
      "              'type': 'Polygon'},\n",
      " 'id': 'LC08_L2SP_192028_20220201_20220205_02_T1',\n",
      " 'links': [{'href': 'https://catalogue.dataspace.copernicus.eu/stac',\n",
      "            'rel': 'root',\n",
      "            'type': 'application/json'},\n",
      "           {'href': 'https://catalogue.dataspace.copernicus.eu/stac/collections/LANDSAT-8/items/LC08_L2SP_192028_20220201_20220205_02_T1',\n",
      "            'rel': 'self',\n",
      "            'type': 'application/json'},\n",
      "           {'href': 'https://catalogue.dataspace.copernicus.eu/stac/collections/LANDSAT-8',\n",
      "            'rel': 'collection',\n",
      "            'type': 'application/json'}],\n",
      " 'properties': {'acquisitionType': 'NOMINAL',\n",
      "                'authority': 'ESA',\n",
      "                'cloudCover': 22.0,\n",
      "                'collectionCategory': 'T1',\n",
      "                'composition': 'LC',\n",
      "                'datetime': '2022-02-01T09:58:30.280000Z',\n",
      "                'end_datetime': '2022-02-01T09:58:30.280000Z',\n",
      "                'instrumentShortName': 'OLI_TIRS',\n",
      "                'numberOfBands': 12,\n",
      "                'operationalMode': 'DEFAULT',\n",
      "                'pathNumber': 192,\n",
      "                'platformShortName': 'LANDSAT-8',\n",
      "                'processingLevel': 'LEVEL2',\n",
      "                'productType': 'L2SP',\n",
      "                'rowNumber': 28,\n",
      "                'sensorType': 'OPTICAL',\n",
      "                'start_datetime': '2022-02-01T09:58:30.280000Z',\n",
      "                'sunAzimuthAngle': 157.25071032,\n",
      "                'sunElevationAngle': 23.93389457},\n",
      " 'stac_extensions': ['https://stac-extensions.github.io/alternate-assets/v1.1.0/schema.json',\n",
      "                     'https://stac-extensions.github.io/storage/v1.0.0/schema.json'],\n",
      " 'stac_version': '1.0.0',\n",
      " 'type': 'Feature'}\n",
      "S3 URL: s3://eodata/Landsat-8/OLI_TIRS/L2SP/2022/02/01/LC08_L2SP_192028_20220201_20220205_02_T1\n"
     ]
    }
   ],
   "source": [
    "pp(items.items[0].get_links())\n",
    "\n",
    "item_link = next(link for link in items.items[0].get_links() if link.rel == 'self').target\n",
    "print(f\"STAC Feature link: {item_link}\")\n",
    "\n",
    "item_response = requests.get(item_link)\n",
    "item_details = item_response.json()\n",
    "pp(item_details)\n",
    "\n",
    "s3_path = item_details['assets']['PRODUCT']['alternate']['s3']['href']\n",
    "s3_url = f\"s3://{s3_path.lstrip('/')}\"\n",
    "print(f\"S3 URL: {s3_url}\")"
   ]
  },
  {
   "cell_type": "code",
   "execution_count": 10,
   "metadata": {},
   "outputs": [
    {
     "name": "stdout",
     "output_type": "stream",
     "text": [
      "\n",
      "Listing objects in /eodata/Landsat-8/:\n",
      "eodata/Landsat-8/OLI_TIRS/L2SP/2022/02/01/LC08_L2SP_192028_20220201_20220205_02_T1/\n",
      "eodata/Landsat-8/OLI_TIRS/L2SP/2022/02/01/LC08_L2SP_192028_20220201_20220205_02_T1/LC08_L2SP_192028_20220201_20220205_02_T1_ANG.txt\n",
      "eodata/Landsat-8/OLI_TIRS/L2SP/2022/02/01/LC08_L2SP_192028_20220201_20220205_02_T1/LC08_L2SP_192028_20220201_20220205_02_T1_MTL.json\n",
      "eodata/Landsat-8/OLI_TIRS/L2SP/2022/02/01/LC08_L2SP_192028_20220201_20220205_02_T1/LC08_L2SP_192028_20220201_20220205_02_T1_MTL.txt\n",
      "eodata/Landsat-8/OLI_TIRS/L2SP/2022/02/01/LC08_L2SP_192028_20220201_20220205_02_T1/LC08_L2SP_192028_20220201_20220205_02_T1_MTL.xml\n",
      "eodata/Landsat-8/OLI_TIRS/L2SP/2022/02/01/LC08_L2SP_192028_20220201_20220205_02_T1/LC08_L2SP_192028_20220201_20220205_02_T1_QA_PIXEL.TIF\n",
      "eodata/Landsat-8/OLI_TIRS/L2SP/2022/02/01/LC08_L2SP_192028_20220201_20220205_02_T1/LC08_L2SP_192028_20220201_20220205_02_T1_QA_RADSAT.TIF\n",
      "eodata/Landsat-8/OLI_TIRS/L2SP/2022/02/01/LC08_L2SP_192028_20220201_20220205_02_T1/LC08_L2SP_192028_20220201_20220205_02_T1_SR_B1.TIF\n",
      "eodata/Landsat-8/OLI_TIRS/L2SP/2022/02/01/LC08_L2SP_192028_20220201_20220205_02_T1/LC08_L2SP_192028_20220201_20220205_02_T1_SR_B2.TIF\n",
      "eodata/Landsat-8/OLI_TIRS/L2SP/2022/02/01/LC08_L2SP_192028_20220201_20220205_02_T1/LC08_L2SP_192028_20220201_20220205_02_T1_SR_B3.TIF\n",
      "eodata/Landsat-8/OLI_TIRS/L2SP/2022/02/01/LC08_L2SP_192028_20220201_20220205_02_T1/LC08_L2SP_192028_20220201_20220205_02_T1_SR_B4.TIF\n",
      "eodata/Landsat-8/OLI_TIRS/L2SP/2022/02/01/LC08_L2SP_192028_20220201_20220205_02_T1/LC08_L2SP_192028_20220201_20220205_02_T1_SR_B5.TIF\n",
      "eodata/Landsat-8/OLI_TIRS/L2SP/2022/02/01/LC08_L2SP_192028_20220201_20220205_02_T1/LC08_L2SP_192028_20220201_20220205_02_T1_SR_B6.TIF\n",
      "eodata/Landsat-8/OLI_TIRS/L2SP/2022/02/01/LC08_L2SP_192028_20220201_20220205_02_T1/LC08_L2SP_192028_20220201_20220205_02_T1_SR_B7.TIF\n",
      "eodata/Landsat-8/OLI_TIRS/L2SP/2022/02/01/LC08_L2SP_192028_20220201_20220205_02_T1/LC08_L2SP_192028_20220201_20220205_02_T1_SR_QA_AEROSOL.TIF\n",
      "eodata/Landsat-8/OLI_TIRS/L2SP/2022/02/01/LC08_L2SP_192028_20220201_20220205_02_T1/LC08_L2SP_192028_20220201_20220205_02_T1_SR_stac.json\n",
      "eodata/Landsat-8/OLI_TIRS/L2SP/2022/02/01/LC08_L2SP_192028_20220201_20220205_02_T1/LC08_L2SP_192028_20220201_20220205_02_T1_ST_ATRAN.TIF\n",
      "eodata/Landsat-8/OLI_TIRS/L2SP/2022/02/01/LC08_L2SP_192028_20220201_20220205_02_T1/LC08_L2SP_192028_20220201_20220205_02_T1_ST_B10.TIF\n",
      "eodata/Landsat-8/OLI_TIRS/L2SP/2022/02/01/LC08_L2SP_192028_20220201_20220205_02_T1/LC08_L2SP_192028_20220201_20220205_02_T1_ST_CDIST.TIF\n",
      "eodata/Landsat-8/OLI_TIRS/L2SP/2022/02/01/LC08_L2SP_192028_20220201_20220205_02_T1/LC08_L2SP_192028_20220201_20220205_02_T1_ST_DRAD.TIF\n",
      "eodata/Landsat-8/OLI_TIRS/L2SP/2022/02/01/LC08_L2SP_192028_20220201_20220205_02_T1/LC08_L2SP_192028_20220201_20220205_02_T1_ST_EMIS.TIF\n",
      "eodata/Landsat-8/OLI_TIRS/L2SP/2022/02/01/LC08_L2SP_192028_20220201_20220205_02_T1/LC08_L2SP_192028_20220201_20220205_02_T1_ST_EMSD.TIF\n",
      "eodata/Landsat-8/OLI_TIRS/L2SP/2022/02/01/LC08_L2SP_192028_20220201_20220205_02_T1/LC08_L2SP_192028_20220201_20220205_02_T1_ST_QA.TIF\n",
      "eodata/Landsat-8/OLI_TIRS/L2SP/2022/02/01/LC08_L2SP_192028_20220201_20220205_02_T1/LC08_L2SP_192028_20220201_20220205_02_T1_ST_TRAD.TIF\n",
      "eodata/Landsat-8/OLI_TIRS/L2SP/2022/02/01/LC08_L2SP_192028_20220201_20220205_02_T1/LC08_L2SP_192028_20220201_20220205_02_T1_ST_URAD.TIF\n",
      "eodata/Landsat-8/OLI_TIRS/L2SP/2022/02/01/LC08_L2SP_192028_20220201_20220205_02_T1/LC08_L2SP_192028_20220201_20220205_02_T1_ST_stac.json\n",
      "eodata/Landsat-8/OLI_TIRS/L2SP/2022/02/01/LC08_L2SP_192028_20220201_20220205_02_T1/LC08_L2SP_192028_20220201_20220205_02_T1_thumb_large.jpeg\n",
      "eodata/Landsat-8/OLI_TIRS/L2SP/2022/02/01/LC08_L2SP_192028_20220201_20220205_02_T1/LC08_L2SP_192028_20220201_20220205_02_T1_thumb_small.jpeg\n"
     ]
    }
   ],
   "source": [
    "\n",
    "fs = s3fs.S3FileSystem(anon=False, key=S3_KEY, secret=S3_SECRET, client_kwargs={'endpoint_url': 'https://eodata.dataspace.copernicus.eu'})\n",
    "def list_s3_objects(prefix):\n",
    "    try:\n",
    "        objects = fs.ls(prefix)\n",
    "        for obj in objects:\n",
    "            print(obj)\n",
    "    except Exception as e:\n",
    "        print(f\"Failed to list objects in {prefix}: {e}\")\n",
    "\n",
    "print(\"\\nListing objects in /eodata/Landsat-8/:\")\n",
    "list_s3_objects(s3_url)"
   ]
  },
  {
   "cell_type": "code",
   "execution_count": 11,
   "metadata": {},
   "outputs": [
    {
     "name": "stdout",
     "output_type": "stream",
     "text": [
      "<xarray.DataArray (band: 1, y: 7751, x: 7641)> Size: 474MB\n",
      "array([[[nan, nan, nan, ..., nan, nan, nan],\n",
      "        [nan, nan, nan, ..., nan, nan, nan],\n",
      "        [nan, nan, nan, ..., nan, nan, nan],\n",
      "        ...,\n",
      "        [nan, nan, nan, ..., nan, nan, nan],\n",
      "        [nan, nan, nan, ..., nan, nan, nan],\n",
      "        [nan, nan, nan, ..., nan, nan, nan]]])\n",
      "Coordinates:\n",
      "  * band         (band) int64 8B 1\n",
      "    spatial_ref  int64 8B 0\n",
      "  * x            (x) float64 61kB 6.222e+05 6.222e+05 ... 8.514e+05 8.514e+05\n",
      "  * y            (y) float64 62kB 5.218e+06 5.218e+06 ... 4.985e+06 4.985e+06\n"
     ]
    }
   ],
   "source": [
    "# Access the S3 data\n",
    "# I dont take responsibility for the actual calculation of NDVI, it is just a showcase that it works\n",
    "band4_path = 's3://eodata/Landsat-8/OLI_TIRS/L2SP/2022/02/01/LC08_L2SP_192028_20220201_20220205_02_T1/LC08_L2SP_192028_20220201_20220205_02_T1_SR_B4.TIF'\n",
    "band5_path = 's3://eodata/Landsat-8/OLI_TIRS/L2SP/2022/02/01/LC08_L2SP_192028_20220201_20220205_02_T1/LC08_L2SP_192028_20220201_20220205_02_T1_SR_B5.TIF'\n",
    "\n",
    "with fs.open(band4_path, 'rb') as f_band4:\n",
    "    red_band = rioxarray.open_rasterio(f_band4)\n",
    "\n",
    "with fs.open(band5_path, 'rb') as f_band5:\n",
    "    nir_band = rioxarray.open_rasterio(f_band5)\n",
    "\n",
    "nir_band = nir_band.rio.reproject_match(red_band)\n",
    "\n",
    "ndvi = (nir_band - red_band) / (nir_band + red_band)\n",
    "\n",
    "print(ndvi)"
   ]
  },
  {
   "cell_type": "markdown",
   "metadata": {},
   "source": [
    "# Section 2: STAC Odata Data Discovery\n",
    "\n",
    "## WIP\n",
    "\n",
    "- Apart from an S3 link the STAC metadata also contains a link to the OData API\n",
    "- I tried to make a sample work but I cant authorize for some reason"
   ]
  },
  {
   "cell_type": "code",
   "execution_count": null,
   "metadata": {},
   "outputs": [],
   "source": [
    "catalog = Client.open('https://catalogue.dataspace.copernicus.eu/stac/')\n",
    "items = catalog.search(\n",
    "    collections=[\"SENTINEL-2\"],\n",
    "    bbox=[11.02083333, 46.65359938, 11.36666667, 46.95416667],\n",
    "    datetime=['2022-02-01T00:00:00Z', '2022-06-30T00:00:00Z'],\n",
    ").item_collection()\n"
   ]
  },
  {
   "cell_type": "code",
   "execution_count": null,
   "metadata": {},
   "outputs": [],
   "source": [
    "pp(items.items[0].get_links())\n",
    "\n",
    "item_link = next(link for link in items.items[0].get_links() if link.rel == 'self').target\n",
    "print(f\"STAC Feature link: {item_link}\")\n",
    "\n",
    "item_response = requests.get(item_link)\n",
    "item_details = item_response.json()\n",
    "pp(item_details)\n",
    "\n",
    "odata_product_link = item_details['assets']['PRODUCT']['href']\n",
    "print(f\"OData Product link: {odata_product_link}\")\n"
   ]
  },
  {
   "cell_type": "code",
   "execution_count": null,
   "metadata": {},
   "outputs": [],
   "source": [
    "# Obtain the download token\n",
    "token_url = 'https://identity.dataspace.copernicus.eu/auth/realms/CDSE/protocol/openid-connect/token'\n",
    "token_data = {\n",
    "    'grant_type': 'password',\n",
    "    'username': USER,\n",
    "    'password': PASS,\n",
    "    'client_id': 'cdse-public'\n",
    "}\n",
    "token_headers = {\n",
    "    'Content-Type': 'application/x-www-form-urlencoded'\n",
    "}\n",
    "\n",
    "token_response = requests.post(token_url, data=token_data, headers=token_headers)\n",
    "\n",
    "# Check if the request was successful\n",
    "if token_response.status_code == 200:\n",
    "    token_json = token_response.json()\n",
    "    access_token = token_json.get('access_token')\n",
    "    refresh_token = token_json.get('refresh_token')\n",
    "    print(f\"Access Token: {access_token}\")\n",
    "    print(f\"Refresh Token: {refresh_token}\")\n",
    "else:\n",
    "    print(f\"Failed to obtain token. Status code: {token_response.status_code}\")\n",
    "    print(token_response.text) \n",
    "    access_token = None\n",
    "    refresh_token = None"
   ]
  },
  {
   "cell_type": "code",
   "execution_count": null,
   "metadata": {},
   "outputs": [],
   "source": [
    "headers = {\n",
    "    'Authorization': f'Bearer {access_token}'\n",
    "}\n",
    "\n",
    "output_path = '/tmp/product.zip'\n",
    "os.makedirs(os.path.dirname(output_path), exist_ok=True)\n",
    "\n",
    "print(odata_product_link)\n",
    "\n",
    "response = requests.get(odata_product_link, headers=headers, stream=True, allow_redirects=True)\n",
    "\n",
    "if response.status_code == 200:\n",
    "    with open(output_path, 'wb') as f:\n",
    "        for chunk in response.iter_content(chunk_size=8192):\n",
    "            f.write(chunk)\n",
    "    print(f\"File downloaded successfully and saved to {output_path}\")\n",
    "else:\n",
    "    print(f\"Failed to download the file. Status code: {response.status_code}\")\n",
    "    print(response.text) "
   ]
  }
 ],
 "metadata": {
  "kernelspec": {
   "display_name": ".venv",
   "language": "python",
   "name": "python3"
  },
  "language_info": {
   "codemirror_mode": {
    "name": "ipython",
    "version": 3
   },
   "file_extension": ".py",
   "mimetype": "text/x-python",
   "name": "python",
   "nbconvert_exporter": "python",
   "pygments_lexer": "ipython3",
   "version": "3.10.12"
  }
 },
 "nbformat": 4,
 "nbformat_minor": 2
}
